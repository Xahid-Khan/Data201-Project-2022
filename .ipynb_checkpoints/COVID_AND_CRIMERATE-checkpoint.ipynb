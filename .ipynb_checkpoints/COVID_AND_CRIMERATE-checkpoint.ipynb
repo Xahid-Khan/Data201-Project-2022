{
 "cells": [
  {
   "cell_type": "markdown",
   "id": "8496bbf3-703f-4361-9580-5cce4751b986",
   "metadata": {},
   "source": [
    "# Cleaning up the covid data for since 2020 till this year (2022)."
   ]
  },
  {
   "cell_type": "code",
   "execution_count": 3,
   "id": "09f7a44d-6fcb-4028-9a51-47e3a898e3e8",
   "metadata": {},
   "outputs": [],
   "source": [
    "library(visdat)\n",
    "library(tidyverse)\n",
    "library(readxl)"
   ]
  },
  {
   "cell_type": "markdown",
   "id": "8e89e5bf-8bbb-49a5-a5bd-d5c04704b018",
   "metadata": {},
   "source": [
    "> We'll read the data straight from the ministry of Health git repository, that way if the data is updated, we'll get the latest dataset for covid cases from 2020 till todate."
   ]
  },
  {
   "cell_type": "code",
   "execution_count": 12,
   "id": "bce1fca7-1008-40c3-b61b-dc75ab12c8e3",
   "metadata": {},
   "outputs": [
    {
     "name": "stderr",
     "output_type": "stream",
     "text": [
      "\u001b[1mRows: \u001b[22m\u001b[34m1800602\u001b[39m \u001b[1mColumns: \u001b[22m\u001b[34m7\u001b[39m\n",
      "\u001b[36m──\u001b[39m \u001b[1mColumn specification\u001b[22m \u001b[36m────────────────────────────────────────────────────────\u001b[39m\n",
      "\u001b[1mDelimiter:\u001b[22m \",\"\n",
      "\u001b[31mchr\u001b[39m  (5): Case Status, Sex, Age group, DHB, Overseas travel\n",
      "\u001b[33mlgl\u001b[39m  (1): Historical\n",
      "\u001b[34mdate\u001b[39m (1): Report Date\n",
      "\n",
      "\u001b[36mℹ\u001b[39m Use `spec()` to retrieve the full column specification for this data.\n",
      "\u001b[36mℹ\u001b[39m Specify the column types or set `show_col_types = FALSE` to quiet this message.\n"
     ]
    }
   ],
   "source": [
    "covid_cases_data = read_csv(\"https://raw.githubusercontent.com/minhealthnz/nz-covid-data/main/cases/covid-cases.csv\", col_names = TRUE)"
   ]
  },
  {
   "cell_type": "code",
   "execution_count": 19,
   "id": "6215f48a-5201-4367-84b5-776e3cb97655",
   "metadata": {},
   "outputs": [
    {
     "data": {
      "text/html": [
       "<table class=\"dataframe\">\n",
       "<caption>A tibble: 6 × 7</caption>\n",
       "<thead>\n",
       "\t<tr><th scope=col>Report Date</th><th scope=col>Case Status</th><th scope=col>Sex</th><th scope=col>Age group</th><th scope=col>DHB</th><th scope=col>Overseas travel</th><th scope=col>Historical</th></tr>\n",
       "\t<tr><th scope=col>&lt;date&gt;</th><th scope=col>&lt;chr&gt;</th><th scope=col>&lt;chr&gt;</th><th scope=col>&lt;chr&gt;</th><th scope=col>&lt;chr&gt;</th><th scope=col>&lt;chr&gt;</th><th scope=col>&lt;lgl&gt;</th></tr>\n",
       "</thead>\n",
       "<tbody>\n",
       "\t<tr><td>2020-03-05</td><td>Probable </td><td><span style=white-space:pre-wrap>Male  </span></td><td>70 to 79</td><td>Managed Isolation &amp; Quarantine</td><td>Yes</td><td>NA</td></tr>\n",
       "\t<tr><td>2020-03-05</td><td>Probable </td><td>Female</td><td>70 to 79</td><td>Managed Isolation &amp; Quarantine</td><td>Yes</td><td>NA</td></tr>\n",
       "\t<tr><td>2020-03-04</td><td>Confirmed</td><td><span style=white-space:pre-wrap>Male  </span></td><td>40 to 49</td><td>Managed Isolation &amp; Quarantine</td><td>Yes</td><td>NA</td></tr>\n",
       "\t<tr><td>2020-03-04</td><td>Confirmed</td><td>Male  </td><td>40 to 49</td><td>Counties Manukau              </td><td>NA </td><td>NA</td></tr>\n",
       "\t<tr><td>2020-03-02</td><td>Confirmed</td><td>Female</td><td>30 to 39</td><td>Managed Isolation &amp; Quarantine</td><td>Yes</td><td>NA</td></tr>\n",
       "\t<tr><td>2020-02-26</td><td>Confirmed</td><td>Female</td><td>60 to 69</td><td>Managed Isolation &amp; Quarantine</td><td>Yes</td><td>NA</td></tr>\n",
       "</tbody>\n",
       "</table>\n"
      ],
      "text/latex": [
       "A tibble: 6 × 7\n",
       "\\begin{tabular}{lllllll}\n",
       " Report Date & Case Status & Sex & Age group & DHB & Overseas travel & Historical\\\\\n",
       " <date> & <chr> & <chr> & <chr> & <chr> & <chr> & <lgl>\\\\\n",
       "\\hline\n",
       "\t 2020-03-05 & Probable  & Male   & 70 to 79 & Managed Isolation \\& Quarantine & Yes & NA\\\\\n",
       "\t 2020-03-05 & Probable  & Female & 70 to 79 & Managed Isolation \\& Quarantine & Yes & NA\\\\\n",
       "\t 2020-03-04 & Confirmed & Male   & 40 to 49 & Managed Isolation \\& Quarantine & Yes & NA\\\\\n",
       "\t 2020-03-04 & Confirmed & Male   & 40 to 49 & Counties Manukau               & NA  & NA\\\\\n",
       "\t 2020-03-02 & Confirmed & Female & 30 to 39 & Managed Isolation \\& Quarantine & Yes & NA\\\\\n",
       "\t 2020-02-26 & Confirmed & Female & 60 to 69 & Managed Isolation \\& Quarantine & Yes & NA\\\\\n",
       "\\end{tabular}\n"
      ],
      "text/markdown": [
       "\n",
       "A tibble: 6 × 7\n",
       "\n",
       "| Report Date &lt;date&gt; | Case Status &lt;chr&gt; | Sex &lt;chr&gt; | Age group &lt;chr&gt; | DHB &lt;chr&gt; | Overseas travel &lt;chr&gt; | Historical &lt;lgl&gt; |\n",
       "|---|---|---|---|---|---|---|\n",
       "| 2020-03-05 | Probable  | Male   | 70 to 79 | Managed Isolation &amp; Quarantine | Yes | NA |\n",
       "| 2020-03-05 | Probable  | Female | 70 to 79 | Managed Isolation &amp; Quarantine | Yes | NA |\n",
       "| 2020-03-04 | Confirmed | Male   | 40 to 49 | Managed Isolation &amp; Quarantine | Yes | NA |\n",
       "| 2020-03-04 | Confirmed | Male   | 40 to 49 | Counties Manukau               | NA  | NA |\n",
       "| 2020-03-02 | Confirmed | Female | 30 to 39 | Managed Isolation &amp; Quarantine | Yes | NA |\n",
       "| 2020-02-26 | Confirmed | Female | 60 to 69 | Managed Isolation &amp; Quarantine | Yes | NA |\n",
       "\n"
      ],
      "text/plain": [
       "  Report Date Case Status Sex    Age group DHB                           \n",
       "1 2020-03-05  Probable    Male   70 to 79  Managed Isolation & Quarantine\n",
       "2 2020-03-05  Probable    Female 70 to 79  Managed Isolation & Quarantine\n",
       "3 2020-03-04  Confirmed   Male   40 to 49  Managed Isolation & Quarantine\n",
       "4 2020-03-04  Confirmed   Male   40 to 49  Counties Manukau              \n",
       "5 2020-03-02  Confirmed   Female 30 to 39  Managed Isolation & Quarantine\n",
       "6 2020-02-26  Confirmed   Female 60 to 69  Managed Isolation & Quarantine\n",
       "  Overseas travel Historical\n",
       "1 Yes             NA        \n",
       "2 Yes             NA        \n",
       "3 Yes             NA        \n",
       "4 NA              NA        \n",
       "5 Yes             NA        \n",
       "6 Yes             NA        "
      ]
     },
     "metadata": {},
     "output_type": "display_data"
    }
   ],
   "source": [
    "covid_cases_data %>% tail()"
   ]
  },
  {
   "cell_type": "code",
   "execution_count": 35,
   "id": "3a170568-a31d-475a-b556-47f1bce9266a",
   "metadata": {},
   "outputs": [
    {
     "data": {
      "text/html": [
       "<table class=\"dataframe\">\n",
       "<caption>A tibble: 6 × 7</caption>\n",
       "<thead>\n",
       "\t<tr><th scope=col>Report Date</th><th scope=col>Case Status</th><th scope=col>Sex</th><th scope=col>Age group</th><th scope=col>DHB</th><th scope=col>Overseas travel</th><th scope=col>Historical</th></tr>\n",
       "\t<tr><th scope=col>&lt;date&gt;</th><th scope=col>&lt;chr&gt;</th><th scope=col>&lt;chr&gt;</th><th scope=col>&lt;chr&gt;</th><th scope=col>&lt;chr&gt;</th><th scope=col>&lt;chr&gt;</th><th scope=col>&lt;lgl&gt;</th></tr>\n",
       "</thead>\n",
       "<tbody>\n",
       "\t<tr><td>2022-10-09</td><td>Confirmed</td><td>Male  </td><td>70 to 79</td><td>Canterbury/West Coast</td><td>NA</td><td>NA</td></tr>\n",
       "\t<tr><td>2022-10-09</td><td>Confirmed</td><td>Female</td><td>20 to 29</td><td>Wairarapa            </td><td>NA</td><td>NA</td></tr>\n",
       "\t<tr><td>2022-10-09</td><td>Confirmed</td><td>Male  </td><td>50 to 59</td><td>Bay of Plenty        </td><td>NA</td><td>NA</td></tr>\n",
       "\t<tr><td>2022-10-09</td><td>Confirmed</td><td>Male  </td><td>20 to 29</td><td>Auckland             </td><td>NA</td><td>NA</td></tr>\n",
       "\t<tr><td>2022-10-09</td><td>Confirmed</td><td>Male  </td><td>60 to 69</td><td>Southern             </td><td>NA</td><td>NA</td></tr>\n",
       "\t<tr><td>2022-10-09</td><td>Confirmed</td><td>Male  </td><td>50 to 59</td><td>Auckland             </td><td>NA</td><td>NA</td></tr>\n",
       "</tbody>\n",
       "</table>\n"
      ],
      "text/latex": [
       "A tibble: 6 × 7\n",
       "\\begin{tabular}{lllllll}\n",
       " Report Date & Case Status & Sex & Age group & DHB & Overseas travel & Historical\\\\\n",
       " <date> & <chr> & <chr> & <chr> & <chr> & <chr> & <lgl>\\\\\n",
       "\\hline\n",
       "\t 2022-10-09 & Confirmed & Male   & 70 to 79 & Canterbury/West Coast & NA & NA\\\\\n",
       "\t 2022-10-09 & Confirmed & Female & 20 to 29 & Wairarapa             & NA & NA\\\\\n",
       "\t 2022-10-09 & Confirmed & Male   & 50 to 59 & Bay of Plenty         & NA & NA\\\\\n",
       "\t 2022-10-09 & Confirmed & Male   & 20 to 29 & Auckland              & NA & NA\\\\\n",
       "\t 2022-10-09 & Confirmed & Male   & 60 to 69 & Southern              & NA & NA\\\\\n",
       "\t 2022-10-09 & Confirmed & Male   & 50 to 59 & Auckland              & NA & NA\\\\\n",
       "\\end{tabular}\n"
      ],
      "text/markdown": [
       "\n",
       "A tibble: 6 × 7\n",
       "\n",
       "| Report Date &lt;date&gt; | Case Status &lt;chr&gt; | Sex &lt;chr&gt; | Age group &lt;chr&gt; | DHB &lt;chr&gt; | Overseas travel &lt;chr&gt; | Historical &lt;lgl&gt; |\n",
       "|---|---|---|---|---|---|---|\n",
       "| 2022-10-09 | Confirmed | Male   | 70 to 79 | Canterbury/West Coast | NA | NA |\n",
       "| 2022-10-09 | Confirmed | Female | 20 to 29 | Wairarapa             | NA | NA |\n",
       "| 2022-10-09 | Confirmed | Male   | 50 to 59 | Bay of Plenty         | NA | NA |\n",
       "| 2022-10-09 | Confirmed | Male   | 20 to 29 | Auckland              | NA | NA |\n",
       "| 2022-10-09 | Confirmed | Male   | 60 to 69 | Southern              | NA | NA |\n",
       "| 2022-10-09 | Confirmed | Male   | 50 to 59 | Auckland              | NA | NA |\n",
       "\n"
      ],
      "text/plain": [
       "  Report Date Case Status Sex    Age group DHB                  \n",
       "1 2022-10-09  Confirmed   Male   70 to 79  Canterbury/West Coast\n",
       "2 2022-10-09  Confirmed   Female 20 to 29  Wairarapa            \n",
       "3 2022-10-09  Confirmed   Male   50 to 59  Bay of Plenty        \n",
       "4 2022-10-09  Confirmed   Male   20 to 29  Auckland             \n",
       "5 2022-10-09  Confirmed   Male   60 to 69  Southern             \n",
       "6 2022-10-09  Confirmed   Male   50 to 59  Auckland             \n",
       "  Overseas travel Historical\n",
       "1 NA              NA        \n",
       "2 NA              NA        \n",
       "3 NA              NA        \n",
       "4 NA              NA        \n",
       "5 NA              NA        \n",
       "6 NA              NA        "
      ]
     },
     "metadata": {},
     "output_type": "display_data"
    }
   ],
   "source": [
    "covid_cases_data %>% arrange('Report Date') %>% head()"
   ]
  },
  {
   "cell_type": "code",
   "execution_count": null,
   "id": "4ebc8127-a769-48b0-94da-f2118599dc9d",
   "metadata": {},
   "outputs": [],
   "source": []
  },
  {
   "cell_type": "code",
   "execution_count": null,
   "id": "955126e0-b66f-4924-aec7-4264c1770483",
   "metadata": {},
   "outputs": [],
   "source": []
  }
 ],
 "metadata": {
  "kernelspec": {
   "display_name": "R",
   "language": "R",
   "name": "ir"
  },
  "language_info": {
   "codemirror_mode": "r",
   "file_extension": ".r",
   "mimetype": "text/x-r-source",
   "name": "R",
   "pygments_lexer": "r",
   "version": "4.2.1"
  }
 },
 "nbformat": 4,
 "nbformat_minor": 5
}
